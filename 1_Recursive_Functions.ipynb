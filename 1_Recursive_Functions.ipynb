{
  "nbformat": 4,
  "nbformat_minor": 0,
  "metadata": {
    "colab": {
      "name": "1.Recursive Functions.ipynb",
      "provenance": [],
      "collapsed_sections": [],
      "authorship_tag": "ABX9TyNa34llepevutGbLqi8kApJ",
      "include_colab_link": true
    },
    "kernelspec": {
      "name": "python3",
      "display_name": "Python 3"
    },
    "language_info": {
      "name": "python"
    }
  },
  "cells": [
    {
      "cell_type": "markdown",
      "metadata": {
        "id": "view-in-github",
        "colab_type": "text"
      },
      "source": [
        "<a href=\"https://colab.research.google.com/github/raviakasapu/AdvancedPython/blob/main/1_Recursive_Functions.ipynb\" target=\"_parent\"><img src=\"https://colab.research.google.com/assets/colab-badge.svg\" alt=\"Open In Colab\"/></a>"
      ]
    },
    {
      "cell_type": "code",
      "source": [
        "#https://python-course.eu/advanced-python/recursive-functions.php"
      ],
      "metadata": {
        "id": "UU7WaSOFGPLw"
      },
      "execution_count": 2,
      "outputs": []
    },
    {
      "cell_type": "markdown",
      "source": [
        "***Factotial with python Function***"
      ],
      "metadata": {
        "id": "3JhBX7wWHhN1"
      }
    },
    {
      "cell_type": "code",
      "source": [
        "def factorial(n):\n",
        "  if n==0:\n",
        "    return 1\n",
        "  else:\n",
        "    n = n * factorial(n-1)\n",
        "    return n\n",
        "  print(n)"
      ],
      "metadata": {
        "id": "Od1SZW-1GT7E"
      },
      "execution_count": 3,
      "outputs": []
    },
    {
      "cell_type": "code",
      "source": [
        "factorial(5)"
      ],
      "metadata": {
        "colab": {
          "base_uri": "https://localhost:8080/"
        },
        "id": "gIj1o7QoGxnW",
        "outputId": "3406161d-17a5-4539-9251-a2d541a58252"
      },
      "execution_count": 4,
      "outputs": [
        {
          "output_type": "execute_result",
          "data": {
            "text/plain": [
              "120"
            ]
          },
          "metadata": {},
          "execution_count": 4
        }
      ]
    },
    {
      "cell_type": "code",
      "source": [
        "def fib(n):\n",
        "    \"\"\" recursive version of the Fibonacci function \"\"\"\n",
        "    if n == 0:\n",
        "        return 0\n",
        "    elif n == 1:\n",
        "        return 1\n",
        "    else:\n",
        "        return fib(n-1) + fib(n-2)\n",
        "    "
      ],
      "metadata": {
        "id": "FHZTMNyS8D5Z"
      },
      "execution_count": 18,
      "outputs": []
    },
    {
      "cell_type": "code",
      "source": [
        "for i in range(1,10):\n",
        "  t = fib(i)\n",
        "  print(t)"
      ],
      "metadata": {
        "colab": {
          "base_uri": "https://localhost:8080/"
        },
        "id": "iikSoWny8HxE",
        "outputId": "e592d32e-0215-42cb-eaa0-76eb3d976401"
      },
      "execution_count": 6,
      "outputs": [
        {
          "output_type": "stream",
          "name": "stdout",
          "text": [
            "1\n",
            "1\n",
            "2\n",
            "3\n",
            "5\n",
            "8\n",
            "13\n",
            "21\n",
            "34\n"
          ]
        }
      ]
    },
    {
      "cell_type": "code",
      "source": [
        "def fib_new(n):\n",
        "  old, new = 0, 1\n",
        "  if n == 0:\n",
        "    return 0\n",
        "  t = new\n",
        "  for i in range(0,n-1):\n",
        "    print(t)\n",
        "    old, new = new , old+new\n",
        "    t = new"
      ],
      "metadata": {
        "id": "qmW3SxKvID0B"
      },
      "execution_count": 19,
      "outputs": []
    },
    {
      "cell_type": "code",
      "source": [
        "fib_new(10)"
      ],
      "metadata": {
        "colab": {
          "base_uri": "https://localhost:8080/"
        },
        "id": "fO8rI1ryIfop",
        "outputId": "f7573b47-f611-4419-a3a6-63c9f5b8bc22"
      },
      "execution_count": 12,
      "outputs": [
        {
          "output_type": "stream",
          "name": "stdout",
          "text": [
            "1\n",
            "1\n",
            "2\n",
            "3\n",
            "5\n",
            "8\n",
            "13\n",
            "21\n",
            "34\n"
          ]
        }
      ]
    },
    {
      "cell_type": "code",
      "source": [
        "class Fibonacci_series:\n",
        "  def __init__(self,i1=0,i2=1):\n",
        "    self.memo = {0:i1,1:i2}\n",
        "  \n",
        "  def __call__(self,n):\n",
        "    if n not in self.memo:\n",
        "      self.memo[n] = self.__call__(n-1) + self.__call__(n-2)\n",
        "    return self.memo[n]"
      ],
      "metadata": {
        "id": "UUcKvEQ1xlpU"
      },
      "execution_count": 70,
      "outputs": []
    },
    {
      "cell_type": "code",
      "source": [
        "fibo = Fibonacci_series()\n",
        "lukas = Fibonacci_series(2,1)"
      ],
      "metadata": {
        "id": "NuTSw29UzRER"
      },
      "execution_count": 73,
      "outputs": []
    },
    {
      "cell_type": "code",
      "source": [
        "for i in range(1,20):\n",
        "  print(i, fibo(i) , lukas(i))"
      ],
      "metadata": {
        "colab": {
          "base_uri": "https://localhost:8080/"
        },
        "id": "xH19lsUZzcMu",
        "outputId": "92568d88-31bb-4173-a0e1-a6b69497aafa"
      },
      "execution_count": 75,
      "outputs": [
        {
          "output_type": "stream",
          "name": "stdout",
          "text": [
            "1 1 1\n",
            "2 1 3\n",
            "3 2 4\n",
            "4 3 7\n",
            "5 5 11\n",
            "6 8 18\n",
            "7 13 29\n",
            "8 21 47\n",
            "9 34 76\n",
            "10 55 123\n",
            "11 89 199\n",
            "12 144 322\n",
            "13 233 521\n",
            "14 377 843\n",
            "15 610 1364\n",
            "16 987 2207\n",
            "17 1597 3571\n",
            "18 2584 5778\n",
            "19 4181 9349\n"
          ]
        }
      ]
    },
    {
      "cell_type": "code",
      "source": [
        "dict = {0:\"xx\",1:\"yy\"}\n",
        "dict[0] = \"xxx\"\n",
        "dict[1]"
      ],
      "metadata": {
        "colab": {
          "base_uri": "https://localhost:8080/",
          "height": 37
        },
        "id": "n-mOWw7N0K3Q",
        "outputId": "edfb5067-f349-4b40-ce7e-68743eea4c2b"
      },
      "execution_count": 60,
      "outputs": [
        {
          "output_type": "execute_result",
          "data": {
            "application/vnd.google.colaboratory.intrinsic+json": {
              "type": "string"
            },
            "text/plain": [
              "'yy'"
            ]
          },
          "metadata": {},
          "execution_count": 60
        }
      ]
    },
    {
      "cell_type": "code",
      "source": [
        "n=1\n",
        "if n not in dict:\n",
        "  print(\"not\")\n",
        "else:\n",
        "  print(dict[n])"
      ],
      "metadata": {
        "colab": {
          "base_uri": "https://localhost:8080/"
        },
        "id": "f5UH0hDQ0YGs",
        "outputId": "5ca98b04-0ed4-49fc-ca49-4b6df3459dd2"
      },
      "execution_count": 53,
      "outputs": [
        {
          "output_type": "stream",
          "name": "stdout",
          "text": [
            "yy\n"
          ]
        }
      ]
    },
    {
      "cell_type": "markdown",
      "source": [
        "***Excercise 1***\n",
        "\n",
        "Think of a recursive version of the function f(n) = 3 * n, i.e. the multiples of 3"
      ],
      "metadata": {
        "id": "ouSNhm1-4FBx"
      }
    },
    {
      "cell_type": "code",
      "source": [
        "class recursive_3:\n",
        "  def __init__(self):\n",
        "    pass\n",
        "  def __call__(self,n):\n",
        "    self.n = n\n",
        "    if(self.n==1):\n",
        "      self.n = 3\n",
        "    else:\n",
        "      self.n = self.__call__(n-1)+3\n",
        "    return self.n"
      ],
      "metadata": {
        "id": "v9YsVUJf4H4q"
      },
      "execution_count": 138,
      "outputs": []
    },
    {
      "cell_type": "code",
      "source": [
        "ret3 = recursive_3()\n",
        "for i in range(1,5):\n",
        "  print(ret3(i))"
      ],
      "metadata": {
        "colab": {
          "base_uri": "https://localhost:8080/"
        },
        "id": "x-jYRuxL5JOv",
        "outputId": "a3c5cb72-c487-4e78-bc32-3d42ceb1d8d6"
      },
      "execution_count": 141,
      "outputs": [
        {
          "output_type": "stream",
          "name": "stdout",
          "text": [
            "3\n",
            "6\n",
            "9\n",
            "12\n"
          ]
        }
      ]
    },
    {
      "cell_type": "code",
      "source": [
        "def add3(n):\n",
        "  if n==1:\n",
        "    return 3\n",
        "  else:\n",
        "    t = add3(n-1)+3\n",
        "    return t\n",
        "for i in range(1,5):\n",
        "  print(add3(i))"
      ],
      "metadata": {
        "colab": {
          "base_uri": "https://localhost:8080/"
        },
        "id": "OwkfReKk7Y5O",
        "outputId": "2177edd5-1c5b-4601-94cc-fd9213240c80"
      },
      "execution_count": 142,
      "outputs": [
        {
          "output_type": "stream",
          "name": "stdout",
          "text": [
            "3\n",
            "6\n",
            "9\n",
            "12\n"
          ]
        }
      ]
    },
    {
      "cell_type": "markdown",
      "source": [
        "***Excercise 2***\n",
        "\n",
        "Write a recursive Python function that returns the sum of the first n integers. (Hint: The function will be similiar to the factorial function!)"
      ],
      "metadata": {
        "id": "nqhoWxGBAIzM"
      }
    },
    {
      "cell_type": "code",
      "source": [
        "class RecursiveAddition:\n",
        "  def __init__(self,n):\n",
        "    self.n = n\n",
        "\n",
        "  def recur(self):\n",
        "    if(self.n == 1):\n",
        "      return 1\n",
        "    else: \n",
        "      return (self.recur(self.n-1) + self.n)"
      ],
      "metadata": {
        "id": "okwCJm24APSi"
      },
      "execution_count": 244,
      "outputs": []
    },
    {
      "cell_type": "code",
      "source": [
        "rec = RecursiveAddition(5)"
      ],
      "metadata": {
        "id": "iqreGNpDJGlf"
      },
      "execution_count": 245,
      "outputs": []
    },
    {
      "cell_type": "code",
      "source": [
        "rec.recur()"
      ],
      "metadata": {
        "colab": {
          "base_uri": "https://localhost:8080/",
          "height": 249
        },
        "id": "bRLQn6m4OCTe",
        "outputId": "3e0b1b43-7223-4562-9bd1-910f64f7fd2a"
      },
      "execution_count": 249,
      "outputs": [
        {
          "output_type": "error",
          "ename": "TypeError",
          "evalue": "ignored",
          "traceback": [
            "\u001b[0;31m---------------------------------------------------------------------------\u001b[0m",
            "\u001b[0;31mTypeError\u001b[0m                                 Traceback (most recent call last)",
            "\u001b[0;32m<ipython-input-249-9eae0a83ee41>\u001b[0m in \u001b[0;36m<module>\u001b[0;34m()\u001b[0m\n\u001b[0;32m----> 1\u001b[0;31m \u001b[0mrec\u001b[0m\u001b[0;34m.\u001b[0m\u001b[0mrecur\u001b[0m\u001b[0;34m(\u001b[0m\u001b[0;34m)\u001b[0m\u001b[0;34m\u001b[0m\u001b[0;34m\u001b[0m\u001b[0m\n\u001b[0m",
            "\u001b[0;32m<ipython-input-244-7a95f7d0a189>\u001b[0m in \u001b[0;36mrecur\u001b[0;34m(self)\u001b[0m\n\u001b[1;32m      7\u001b[0m       \u001b[0;32mreturn\u001b[0m \u001b[0;36m1\u001b[0m\u001b[0;34m\u001b[0m\u001b[0;34m\u001b[0m\u001b[0m\n\u001b[1;32m      8\u001b[0m     \u001b[0;32melse\u001b[0m\u001b[0;34m:\u001b[0m\u001b[0;34m\u001b[0m\u001b[0;34m\u001b[0m\u001b[0m\n\u001b[0;32m----> 9\u001b[0;31m       \u001b[0;32mreturn\u001b[0m \u001b[0;34m(\u001b[0m\u001b[0mself\u001b[0m\u001b[0;34m.\u001b[0m\u001b[0mrecur\u001b[0m\u001b[0;34m(\u001b[0m\u001b[0mself\u001b[0m\u001b[0;34m.\u001b[0m\u001b[0mn\u001b[0m\u001b[0;34m-\u001b[0m\u001b[0;36m1\u001b[0m\u001b[0;34m)\u001b[0m \u001b[0;34m+\u001b[0m \u001b[0mself\u001b[0m\u001b[0;34m.\u001b[0m\u001b[0mn\u001b[0m\u001b[0;34m)\u001b[0m\u001b[0;34m\u001b[0m\u001b[0;34m\u001b[0m\u001b[0m\n\u001b[0m",
            "\u001b[0;31mTypeError\u001b[0m: recur() takes 1 positional argument but 2 were given"
          ]
        }
      ]
    },
    {
      "cell_type": "code",
      "source": [
        "def recur_add(n):\n",
        "  if n == 1:\n",
        "    return 1\n",
        "  else:\n",
        "    return recur_add(n-1)+n\n",
        "\n",
        "print(recur_add(5))"
      ],
      "metadata": {
        "colab": {
          "base_uri": "https://localhost:8080/"
        },
        "id": "BLalPY2MD5-f",
        "outputId": "e226630c-d909-477c-9088-509cde1c0d9a"
      },
      "execution_count": 216,
      "outputs": [
        {
          "output_type": "stream",
          "name": "stdout",
          "text": [
            "15\n"
          ]
        }
      ]
    }
  ]
}