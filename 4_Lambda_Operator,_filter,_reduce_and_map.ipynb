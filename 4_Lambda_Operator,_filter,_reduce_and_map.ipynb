{
  "nbformat": 4,
  "nbformat_minor": 0,
  "metadata": {
    "colab": {
      "name": "4. Lambda Operator, filter, reduce and map.ipynb",
      "provenance": [],
      "collapsed_sections": [],
      "authorship_tag": "ABX9TyOxeulHIpkSqMJuIP9tonDr",
      "include_colab_link": true
    },
    "kernelspec": {
      "name": "python3",
      "display_name": "Python 3"
    },
    "language_info": {
      "name": "python"
    }
  },
  "cells": [
    {
      "cell_type": "markdown",
      "metadata": {
        "id": "view-in-github",
        "colab_type": "text"
      },
      "source": [
        "<a href=\"https://colab.research.google.com/github/raviakasapu/AdvancedPython/blob/main/4_Lambda_Operator%2C_filter%2C_reduce_and_map.ipynb\" target=\"_parent\"><img src=\"https://colab.research.google.com/assets/colab-badge.svg\" alt=\"Open In Colab\"/></a>"
      ]
    },
    {
      "cell_type": "markdown",
      "source": [
        "# ***The lambda Function***"
      ],
      "metadata": {
        "id": "CE29ytQ5ZLMC"
      }
    },
    {
      "cell_type": "code",
      "source": [
        "sum = lambda x,y : x+y\n",
        "sum(1,2)"
      ],
      "metadata": {
        "colab": {
          "base_uri": "https://localhost:8080/"
        },
        "id": "nNQY0eqgZS_K",
        "outputId": "a590d249-0216-421f-d066-ec14cba52b01"
      },
      "execution_count": 1,
      "outputs": [
        {
          "output_type": "execute_result",
          "data": {
            "text/plain": [
              "3"
            ]
          },
          "metadata": {},
          "execution_count": 1
        }
      ]
    },
    {
      "cell_type": "markdown",
      "source": [
        "#***map function***\n",
        "\n",
        "r = map(func, seq)"
      ],
      "metadata": {
        "id": "uxXOl3QRp-9K"
      }
    },
    {
      "cell_type": "code",
      "source": [
        "def fahrenheit(T):\n",
        "    return ((float(9)/5)*T + 32)\n",
        "def celsius(T):\n",
        "    return (float(5)/9)*(T-32)\n",
        "\n",
        "temperatures = (36.5, 37, 37.5, 38, 39)"
      ],
      "metadata": {
        "id": "_YsPGnncfvES"
      },
      "execution_count": 3,
      "outputs": []
    },
    {
      "cell_type": "code",
      "source": [
        "F = map(fahrenheit, temperatures)\n",
        "list_f = list(F)\n",
        "print(list_f)"
      ],
      "metadata": {
        "colab": {
          "base_uri": "https://localhost:8080/"
        },
        "id": "V3W0aaN9qImc",
        "outputId": "dbc53be6-5fca-4187-c15a-a18dfd15925f"
      },
      "execution_count": 10,
      "outputs": [
        {
          "output_type": "stream",
          "name": "stdout",
          "text": [
            "[97.7, 98.60000000000001, 99.5, 100.4, 102.2]\n"
          ]
        }
      ]
    },
    {
      "cell_type": "code",
      "source": [
        "C = map(celsius, list_f)\n",
        "list_c = list(C)\n",
        "print(list_c)"
      ],
      "metadata": {
        "colab": {
          "base_uri": "https://localhost:8080/"
        },
        "id": "BR_XdeTFq1vX",
        "outputId": "c5e6536c-ab83-40ec-d307-895246900cce"
      },
      "execution_count": 11,
      "outputs": [
        {
          "output_type": "stream",
          "name": "stdout",
          "text": [
            "[36.5, 37.00000000000001, 37.5, 38.00000000000001, 39.0]\n"
          ]
        }
      ]
    },
    {
      "cell_type": "code",
      "source": [
        "temp_convert = list(map(lambda x: (float(9)/5)*x + 32, temperatures))\n",
        "temp_convert"
      ],
      "metadata": {
        "colab": {
          "base_uri": "https://localhost:8080/"
        },
        "id": "1Qw0nfINrfSO",
        "outputId": "5e815bd3-79ff-439e-a53f-f3a3f4ad9ef9"
      },
      "execution_count": 16,
      "outputs": [
        {
          "output_type": "execute_result",
          "data": {
            "text/plain": [
              "[97.7, 98.60000000000001, 99.5, 100.4, 102.2]"
            ]
          },
          "metadata": {},
          "execution_count": 16
        }
      ]
    },
    {
      "cell_type": "code",
      "source": [
        ""
      ],
      "metadata": {
        "id": "cmP7UhNIvWgL"
      },
      "execution_count": null,
      "outputs": []
    }
  ]
}