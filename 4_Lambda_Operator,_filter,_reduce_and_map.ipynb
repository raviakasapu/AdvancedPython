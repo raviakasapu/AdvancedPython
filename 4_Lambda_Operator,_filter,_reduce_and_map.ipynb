{
  "nbformat": 4,
  "nbformat_minor": 0,
  "metadata": {
    "colab": {
      "name": "4. Lambda Operator, filter, reduce and map.ipynb",
      "provenance": [],
      "collapsed_sections": [],
      "authorship_tag": "ABX9TyPconZIGEhqLu9ga3J6JGiq",
      "include_colab_link": true
    },
    "kernelspec": {
      "name": "python3",
      "display_name": "Python 3"
    },
    "language_info": {
      "name": "python"
    }
  },
  "cells": [
    {
      "cell_type": "markdown",
      "metadata": {
        "id": "view-in-github",
        "colab_type": "text"
      },
      "source": [
        "<a href=\"https://colab.research.google.com/github/raviakasapu/AdvancedPython/blob/main/4_Lambda_Operator%2C_filter%2C_reduce_and_map.ipynb\" target=\"_parent\"><img src=\"https://colab.research.google.com/assets/colab-badge.svg\" alt=\"Open In Colab\"/></a>"
      ]
    },
    {
      "cell_type": "markdown",
      "source": [
        "# ***The lambda Function***"
      ],
      "metadata": {
        "id": "CE29ytQ5ZLMC"
      }
    },
    {
      "cell_type": "code",
      "source": [
        "sum = lambda x,y : x+y\n",
        "sum(1,2)"
      ],
      "metadata": {
        "colab": {
          "base_uri": "https://localhost:8080/"
        },
        "id": "nNQY0eqgZS_K",
        "outputId": "a590d249-0216-421f-d066-ec14cba52b01"
      },
      "execution_count": null,
      "outputs": [
        {
          "output_type": "execute_result",
          "data": {
            "text/plain": [
              "3"
            ]
          },
          "metadata": {},
          "execution_count": 1
        }
      ]
    },
    {
      "cell_type": "markdown",
      "source": [
        "#***map function***\n",
        "\n",
        "r = map(func, seq)"
      ],
      "metadata": {
        "id": "uxXOl3QRp-9K"
      }
    },
    {
      "cell_type": "markdown",
      "source": [
        "map()  will apply the function to all the elements of the series or iterable"
      ],
      "metadata": {
        "id": "ovEGq_3e6MAm"
      }
    },
    {
      "cell_type": "code",
      "source": [
        "def fahrenheit(T):\n",
        "    return ((float(9)/5)*T + 32)\n",
        "def celsius(T):\n",
        "    return (float(5)/9)*(T-32)\n",
        "\n",
        "temperatures = (36.5, 37, 37.5, 38, 39)"
      ],
      "metadata": {
        "id": "_YsPGnncfvES"
      },
      "execution_count": null,
      "outputs": []
    },
    {
      "cell_type": "code",
      "source": [
        "F = map(fahrenheit, temperatures)\n",
        "list_f = list(F)\n",
        "print(list_f)"
      ],
      "metadata": {
        "colab": {
          "base_uri": "https://localhost:8080/"
        },
        "id": "V3W0aaN9qImc",
        "outputId": "dbc53be6-5fca-4187-c15a-a18dfd15925f"
      },
      "execution_count": null,
      "outputs": [
        {
          "output_type": "stream",
          "name": "stdout",
          "text": [
            "[97.7, 98.60000000000001, 99.5, 100.4, 102.2]\n"
          ]
        }
      ]
    },
    {
      "cell_type": "code",
      "source": [
        "C = map(celsius, list_f)\n",
        "list_c = list(C)\n",
        "print(list_c)"
      ],
      "metadata": {
        "colab": {
          "base_uri": "https://localhost:8080/"
        },
        "id": "BR_XdeTFq1vX",
        "outputId": "c5e6536c-ab83-40ec-d307-895246900cce"
      },
      "execution_count": null,
      "outputs": [
        {
          "output_type": "stream",
          "name": "stdout",
          "text": [
            "[36.5, 37.00000000000001, 37.5, 38.00000000000001, 39.0]\n"
          ]
        }
      ]
    },
    {
      "cell_type": "code",
      "source": [
        "temp_convert = list(map(lambda x: (float(9)/5)*x + 32, temperatures))\n",
        "temp_convert"
      ],
      "metadata": {
        "colab": {
          "base_uri": "https://localhost:8080/"
        },
        "id": "1Qw0nfINrfSO",
        "outputId": "5e815bd3-79ff-439e-a53f-f3a3f4ad9ef9"
      },
      "execution_count": null,
      "outputs": [
        {
          "output_type": "execute_result",
          "data": {
            "text/plain": [
              "[97.7, 98.60000000000001, 99.5, 100.4, 102.2]"
            ]
          },
          "metadata": {},
          "execution_count": 16
        }
      ]
    },
    {
      "cell_type": "markdown",
      "source": [
        "# ***Filter Function***\n",
        "\n",
        "filter(function, sequence)"
      ],
      "metadata": {
        "id": "uHoW_2AvwMVG"
      }
    },
    {
      "cell_type": "markdown",
      "source": [
        "filter out all the elements in a series based on thhe function"
      ],
      "metadata": {
        "id": "tlKTYXw06b6x"
      }
    },
    {
      "cell_type": "code",
      "source": [
        "fibonacci = [0,1,1,2,3,5,8,13,21,34,55]\n",
        "odd_numbers = list(filter(lambda x: x%2,fibonacci))\n",
        "odd_numbers"
      ],
      "metadata": {
        "colab": {
          "base_uri": "https://localhost:8080/"
        },
        "id": "kr9E6uPjwQcp",
        "outputId": "d4245c4a-ffde-4ad9-acad-97728174f5ca"
      },
      "execution_count": null,
      "outputs": [
        {
          "output_type": "execute_result",
          "data": {
            "text/plain": [
              "[1, 1, 3, 5, 13, 21, 55]"
            ]
          },
          "metadata": {},
          "execution_count": 19
        }
      ]
    },
    {
      "cell_type": "code",
      "source": [
        "fibonacci = [0,1,1,2,3,5,8,13,21,34,55]\n",
        "even_numbers = list(filter(lambda x: x%2-1,fibonacci))\n",
        "even_numbers"
      ],
      "metadata": {
        "colab": {
          "base_uri": "https://localhost:8080/"
        },
        "id": "PDvIXljlxMWq",
        "outputId": "883426eb-e98f-4cee-c282-d3a124a76930"
      },
      "execution_count": null,
      "outputs": [
        {
          "output_type": "execute_result",
          "data": {
            "text/plain": [
              "[0, 2, 8, 34]"
            ]
          },
          "metadata": {},
          "execution_count": 20
        }
      ]
    },
    {
      "cell_type": "markdown",
      "source": [
        "# ***Reduce Function***"
      ],
      "metadata": {
        "id": "bnBv3oFuxzSg"
      }
    },
    {
      "cell_type": "code",
      "source": [
        "from functools import reduce\n",
        "reduce(lambda x,y:x+y,range(1,100))"
      ],
      "metadata": {
        "colab": {
          "base_uri": "https://localhost:8080/"
        },
        "id": "uVOo7p5LxUog",
        "outputId": "00c60f18-5a14-48b5-95a6-13b0829cca1c"
      },
      "execution_count": null,
      "outputs": [
        {
          "output_type": "execute_result",
          "data": {
            "text/plain": [
              "4950"
            ]
          },
          "metadata": {},
          "execution_count": 21
        }
      ]
    },
    {
      "cell_type": "code",
      "source": [
        "reduce(lambda x,y: x*y, range(1,5))"
      ],
      "metadata": {
        "colab": {
          "base_uri": "https://localhost:8080/"
        },
        "id": "YazksDZ3yb2z",
        "outputId": "d2af084c-1564-4e9a-e8f0-462b8d0f4db9"
      },
      "execution_count": null,
      "outputs": [
        {
          "output_type": "execute_result",
          "data": {
            "text/plain": [
              "24"
            ]
          },
          "metadata": {},
          "execution_count": 24
        }
      ]
    }
  ]
}