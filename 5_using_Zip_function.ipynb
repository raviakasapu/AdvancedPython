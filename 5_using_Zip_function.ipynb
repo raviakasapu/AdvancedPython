{
  "nbformat": 4,
  "nbformat_minor": 0,
  "metadata": {
    "colab": {
      "name": "5_using_Zip_function.ipynb",
      "provenance": [],
      "collapsed_sections": [],
      "authorship_tag": "ABX9TyMl9Oy+GTBFT9iP1y0Bu9TK",
      "include_colab_link": true
    },
    "kernelspec": {
      "name": "python3",
      "display_name": "Python 3"
    },
    "language_info": {
      "name": "python"
    }
  },
  "cells": [
    {
      "cell_type": "markdown",
      "metadata": {
        "id": "view-in-github",
        "colab_type": "text"
      },
      "source": [
        "<a href=\"https://colab.research.google.com/github/raviakasapu/AdvancedPython/blob/main/5_using_Zip_function.ipynb\" target=\"_parent\"><img src=\"https://colab.research.google.com/assets/colab-badge.svg\" alt=\"Open In Colab\"/></a>"
      ]
    },
    {
      "cell_type": "markdown",
      "source": [
        "# using ZIP Function"
      ],
      "metadata": {
        "id": "ifo99fxrpB-6"
      }
    },
    {
      "cell_type": "code",
      "source": [
        "a = ['a','b','c','d','e']\n",
        "n = [5,3,2,6,9]"
      ],
      "metadata": {
        "id": "MvPzjsR2pD2l"
      },
      "execution_count": 8,
      "outputs": []
    },
    {
      "cell_type": "code",
      "source": [
        "zip(a,n)"
      ],
      "metadata": {
        "colab": {
          "base_uri": "https://localhost:8080/"
        },
        "id": "YuZysclEpLuN",
        "outputId": "f819a2f8-c669-4539-9e5d-4c1dd550acd8"
      },
      "execution_count": 2,
      "outputs": [
        {
          "output_type": "execute_result",
          "data": {
            "text/plain": [
              "<zip at 0x7fd5da3cd410>"
            ]
          },
          "metadata": {},
          "execution_count": 2
        }
      ]
    },
    {
      "cell_type": "code",
      "source": [
        "for i in zip(a,n):\n",
        "  print(i)"
      ],
      "metadata": {
        "colab": {
          "base_uri": "https://localhost:8080/"
        },
        "id": "SsSsimv9pP7J",
        "outputId": "a91018b6-fa7f-46fe-a9e2-ccafa5105865"
      },
      "execution_count": 9,
      "outputs": [
        {
          "output_type": "stream",
          "name": "stdout",
          "text": [
            "('a', 5)\n",
            "('b', 3)\n",
            "('c', 2)\n",
            "('d', 6)\n",
            "('e', 9)\n"
          ]
        }
      ]
    },
    {
      "cell_type": "code",
      "source": [
        "str = 'this is an example text'\n",
        "for t in zip(str):\n",
        "  print(t)"
      ],
      "metadata": {
        "colab": {
          "base_uri": "https://localhost:8080/"
        },
        "id": "fm-nq-K7pqik",
        "outputId": "7d44934d-8740-44d2-be80-9be7286fa6df"
      },
      "execution_count": 10,
      "outputs": [
        {
          "output_type": "stream",
          "name": "stdout",
          "text": [
            "('t',)\n",
            "('h',)\n",
            "('i',)\n",
            "('s',)\n",
            "(' ',)\n",
            "('i',)\n",
            "('s',)\n",
            "(' ',)\n",
            "('a',)\n",
            "('n',)\n",
            "(' ',)\n",
            "('e',)\n",
            "('x',)\n",
            "('a',)\n",
            "('m',)\n",
            "('p',)\n",
            "('l',)\n",
            "('e',)\n",
            "(' ',)\n",
            "('t',)\n",
            "('e',)\n",
            "('x',)\n",
            "('t',)\n"
          ]
        }
      ]
    },
    {
      "cell_type": "markdown",
      "source": [
        "#unpacking with zip \n",
        "## using \" * \" operator"
      ],
      "metadata": {
        "id": "_BAQ4p4tqCW3"
      }
    },
    {
      "cell_type": "code",
      "source": [
        "cities_and_population = [(\"Zurich\", 415367),\n",
        "                         (\"Geneva\", 201818),\n",
        "                         (\"Basel\", 177654),\n",
        "                         (\"Lausanne\", 139111),\n",
        "                         (\"Bern\", 133883),\n",
        "                         (\"Winterthur\", 111851)]"
      ],
      "metadata": {
        "id": "kMYxx9DAqBIi"
      },
      "execution_count": 11,
      "outputs": []
    },
    {
      "cell_type": "code",
      "source": [
        "cities, population = list(zip(*cities_and_population))"
      ],
      "metadata": {
        "id": "rQJI20jeqG8y"
      },
      "execution_count": 13,
      "outputs": []
    },
    {
      "cell_type": "code",
      "source": [
        "cities"
      ],
      "metadata": {
        "colab": {
          "base_uri": "https://localhost:8080/"
        },
        "id": "kwshPvUSqTgf",
        "outputId": "7eac54f8-8ba9-4a67-b6e8-762eab2cea2e"
      },
      "execution_count": 14,
      "outputs": [
        {
          "output_type": "execute_result",
          "data": {
            "text/plain": [
              "('Zurich', 'Geneva', 'Basel', 'Lausanne', 'Bern', 'Winterthur')"
            ]
          },
          "metadata": {},
          "execution_count": 14
        }
      ]
    },
    {
      "cell_type": "code",
      "source": [
        "population"
      ],
      "metadata": {
        "colab": {
          "base_uri": "https://localhost:8080/"
        },
        "id": "Sfg7N3xIqU4B",
        "outputId": "0b1d4bc8-f060-4e5f-a7cc-7b9279a09faf"
      },
      "execution_count": 15,
      "outputs": [
        {
          "output_type": "execute_result",
          "data": {
            "text/plain": [
              "(415367, 201818, 177654, 139111, 133883, 111851)"
            ]
          },
          "metadata": {},
          "execution_count": 15
        }
      ]
    }
  ]
}