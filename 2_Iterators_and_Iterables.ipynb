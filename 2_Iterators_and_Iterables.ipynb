{
  "nbformat": 4,
  "nbformat_minor": 0,
  "metadata": {
    "colab": {
      "name": "2.Iterators and Iterables.ipynb",
      "provenance": [],
      "collapsed_sections": [],
      "authorship_tag": "ABX9TyMfh2zRc2BnvmgzjjZhFzT1",
      "include_colab_link": true
    },
    "kernelspec": {
      "name": "python3",
      "display_name": "Python 3"
    },
    "language_info": {
      "name": "python"
    }
  },
  "cells": [
    {
      "cell_type": "markdown",
      "metadata": {
        "id": "view-in-github",
        "colab_type": "text"
      },
      "source": [
        "<a href=\"https://colab.research.google.com/github/raviakasapu/AdvancedPython/blob/main/2_Iterators_and_Iterables.ipynb\" target=\"_parent\"><img src=\"https://colab.research.google.com/assets/colab-badge.svg\" alt=\"Open In Colab\"/></a>"
      ]
    },
    {
      "cell_type": "markdown",
      "source": [
        "***Iterators and Iterables***"
      ],
      "metadata": {
        "id": "x8fgCKd_6nUp"
      }
    },
    {
      "cell_type": "code",
      "source": [
        "num_list = [1,2,3,4]\n",
        "num_iterator = iter(num_list)\n",
        "print(num_iterator)"
      ],
      "metadata": {
        "colab": {
          "base_uri": "https://localhost:8080/"
        },
        "id": "b5pMenjx6t2h",
        "outputId": "01ca7ba3-f0a3-4a47-c741-2dfed6fb81b4"
      },
      "execution_count": 13,
      "outputs": [
        {
          "output_type": "stream",
          "name": "stdout",
          "text": [
            "<list_iterator object at 0x7f2b69fde6d0>\n"
          ]
        }
      ]
    },
    {
      "cell_type": "code",
      "source": [
        "for i in num_list:\n",
        "  print(i)"
      ],
      "metadata": {
        "colab": {
          "base_uri": "https://localhost:8080/"
        },
        "id": "hdMx_HPe7_hK",
        "outputId": "7c1c2b23-ee58-45bf-aba0-3bebb2c40042"
      },
      "execution_count": 11,
      "outputs": [
        {
          "output_type": "stream",
          "name": "stdout",
          "text": [
            "1\n",
            "2\n",
            "3\n",
            "4\n"
          ]
        }
      ]
    },
    {
      "cell_type": "code",
      "source": [
        "next(num_iterator)"
      ],
      "metadata": {
        "colab": {
          "base_uri": "https://localhost:8080/",
          "height": 164
        },
        "id": "PfXPH85-8fK9",
        "outputId": "acf6d0aa-4b2e-4903-b0cb-949cc7213240"
      },
      "execution_count": 18,
      "outputs": [
        {
          "output_type": "error",
          "ename": "StopIteration",
          "evalue": "ignored",
          "traceback": [
            "\u001b[0;31m---------------------------------------------------------------------------\u001b[0m",
            "\u001b[0;31mStopIteration\u001b[0m                             Traceback (most recent call last)",
            "\u001b[0;32m<ipython-input-18-69de9cb60c86>\u001b[0m in \u001b[0;36m<module>\u001b[0;34m()\u001b[0m\n\u001b[0;32m----> 1\u001b[0;31m \u001b[0mnext\u001b[0m\u001b[0;34m(\u001b[0m\u001b[0mnum_iterator\u001b[0m\u001b[0;34m)\u001b[0m\u001b[0;34m\u001b[0m\u001b[0;34m\u001b[0m\u001b[0m\n\u001b[0m",
            "\u001b[0;31mStopIteration\u001b[0m: "
          ]
        }
      ]
    },
    {
      "cell_type": "code",
      "source": [
        "num_iterator.__dir__()"
      ],
      "metadata": {
        "colab": {
          "base_uri": "https://localhost:8080/"
        },
        "id": "kwzKP5tv9Cvd",
        "outputId": "e71f0621-860e-4ef5-9ff5-200822146a7f"
      },
      "execution_count": 21,
      "outputs": [
        {
          "output_type": "execute_result",
          "data": {
            "text/plain": [
              "['__getattribute__',\n",
              " '__iter__',\n",
              " '__next__',\n",
              " '__length_hint__',\n",
              " '__reduce__',\n",
              " '__setstate__',\n",
              " '__doc__',\n",
              " '__repr__',\n",
              " '__hash__',\n",
              " '__str__',\n",
              " '__setattr__',\n",
              " '__delattr__',\n",
              " '__lt__',\n",
              " '__le__',\n",
              " '__eq__',\n",
              " '__ne__',\n",
              " '__gt__',\n",
              " '__ge__',\n",
              " '__init__',\n",
              " '__new__',\n",
              " '__reduce_ex__',\n",
              " '__subclasshook__',\n",
              " '__init_subclass__',\n",
              " '__format__',\n",
              " '__sizeof__',\n",
              " '__dir__',\n",
              " '__class__']"
            ]
          },
          "metadata": {},
          "execution_count": 21
        }
      ]
    },
    {
      "cell_type": "code",
      "source": [
        "def iterable(obj):\n",
        "  try:\n",
        "    iter(obj)\n",
        "    return True\n",
        "  except TypeError:\n",
        "    return False\n",
        "\n",
        "test_obj = [(1,2,3),1,2,[1,2,3],{\"a\":1,\"b\":2,\"c\":3},\"string\"]"
      ],
      "metadata": {
        "id": "LGW8y_-V9T2Q"
      },
      "execution_count": 63,
      "outputs": []
    },
    {
      "cell_type": "code",
      "source": [
        "for i in iter(test_obj):\n",
        "  print(\"{0:<30} {1:>5} {2:>5}\".format(str(i),str(\"-->\"), iterable(i)))"
      ],
      "metadata": {
        "colab": {
          "base_uri": "https://localhost:8080/"
        },
        "id": "gkxND2b0E6Ik",
        "outputId": "8e5487cb-10ec-4e49-dbff-d00ce2b97b89"
      },
      "execution_count": 69,
      "outputs": [
        {
          "output_type": "stream",
          "name": "stdout",
          "text": [
            "(1, 2, 3)                        -->     1\n",
            "1                                -->     0\n",
            "2                                -->     0\n",
            "[1, 2, 3]                        -->     1\n",
            "{'a': 1, 'b': 2, 'c': 3}         -->     1\n",
            "string                           -->     1\n"
          ]
        }
      ]
    },
    {
      "cell_type": "markdown",
      "source": [
        "***List Reversal***"
      ],
      "metadata": {
        "id": "sgkSxMLIJVmP"
      }
    },
    {
      "cell_type": "code",
      "source": [
        "class Reversal:\n",
        "  def __init__(self,obj):\n",
        "    self.obj = obj\n",
        "    self.i = len(self.obj)\n",
        "  def __iter__(self):\n",
        "    return self\n",
        "  def __next__(self):\n",
        "    if self.i==0:\n",
        "      raise StopIteration\n",
        "    self.i = self.i -1\n",
        "    return self.obj[self.i]"
      ],
      "metadata": {
        "id": "ZqfnaIo4Jpmj"
      },
      "execution_count": 87,
      "outputs": []
    },
    {
      "cell_type": "code",
      "source": [
        "num_list = [1,2,3,4,5]\n",
        "reverse_num_list = Reversal(num_list)"
      ],
      "metadata": {
        "id": "IJ-tjaPDO7vT"
      },
      "execution_count": 98,
      "outputs": []
    },
    {
      "cell_type": "code",
      "source": [
        "print(iter(reverse_num_list))"
      ],
      "metadata": {
        "colab": {
          "base_uri": "https://localhost:8080/"
        },
        "id": "s8PvLSVISFbz",
        "outputId": "afbec594-6d0e-46f1-9663-3d694967b15d"
      },
      "execution_count": 96,
      "outputs": [
        {
          "output_type": "stream",
          "name": "stdout",
          "text": [
            "<__main__.Reversal object at 0x7f2b65d5c310>\n"
          ]
        }
      ]
    },
    {
      "cell_type": "code",
      "source": [
        "for k in reverse_num_list:\n",
        "  print(k)"
      ],
      "metadata": {
        "colab": {
          "base_uri": "https://localhost:8080/"
        },
        "id": "7JxmP69xR5ln",
        "outputId": "6ee68421-7c1b-4a54-d9b3-3f312b12943e"
      },
      "execution_count": 99,
      "outputs": [
        {
          "output_type": "stream",
          "name": "stdout",
          "text": [
            "5\n",
            "4\n",
            "3\n",
            "2\n",
            "1\n"
          ]
        }
      ]
    }
  ]
}